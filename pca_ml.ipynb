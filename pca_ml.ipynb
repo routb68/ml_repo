{
  "nbformat": 4,
  "nbformat_minor": 0,
  "metadata": {
    "colab": {
      "provenance": [],
      "collapsed_sections": [],
      "authorship_tag": "ABX9TyPYy7q7RWvpW5dvsaTb2cDs",
      "include_colab_link": true
    },
    "kernelspec": {
      "name": "python3",
      "display_name": "Python 3"
    },
    "language_info": {
      "name": "python"
    },
    "accelerator": "TPU",
    "gpuClass": "standard"
  },
  "cells": [
    {
      "cell_type": "markdown",
      "metadata": {
        "id": "view-in-github",
        "colab_type": "text"
      },
      "source": [
        "<a href=\"https://colab.research.google.com/github/routb68/ml_repo/blob/main/pca_ml.ipynb\" target=\"_parent\"><img src=\"https://colab.research.google.com/assets/colab-badge.svg\" alt=\"Open In Colab\"/></a>"
      ]
    },
    {
      "cell_type": "markdown",
      "source": [
        "# **Deciding number of Components in PCA (using Explained Variance)**\n",
        "Prior to getting into **deciding number of components in PCA** after Dimensionality Reduction, below is a brief summary of Principal Component Analysis approach."
      ],
      "metadata": {
        "id": "hE9WoKPr5KVZ"
      }
    },
    {
      "cell_type": "markdown",
      "source": [
        "# **Principal Component Analysis**\n",
        "Say, we have a d-dimensional (large value of d) dataset. Running an ML algorithm on so many features will require high computational power and will consume a lot of time. But if we have redundant features on the dataset, we can simply drop one of those features without sacrificing significant algorithmic accuracy and retaining most of the information. Hence we reduce d-dimensions into k-dimensions based dataset. (where k < d). The approach is as follows:\n",
        "\n",
        "\n",
        "*   Normalize the intial dataset\n",
        "*   Find the corresponding Eigenectors and Eigenvalues from the covariance matrix or correlation matrix\n",
        "*   Sort the obtained Eigenvalues in descending order\n",
        "*   For k Eigenvalues from the beginning, we choose their corresponding k number of Eigenvectors\n",
        "* Create a projection matrix from these k Eigenvectors\n",
        "* Create a new k-dimensional dataset using the above created projection matrix\n",
        "\n",
        "\n",
        "\n",
        "\n",
        "\n"
      ],
      "metadata": {
        "id": "Uv3MDJRm5mt8"
      }
    },
    {
      "cell_type": "markdown",
      "source": [
        "# **Deciding value of k**\n",
        "We will use a measure called **Explained Variance**. The Explained Variance tells us how much information (variance) can be attributed to each of the principal components. Looking at cumulative values of Explained varinace associated with each component, we can decide which features, we can drop out safely.\n",
        "\n",
        "# **Importing Libraries**\n"
      ],
      "metadata": {
        "id": "RzxU6xXm6ICe"
      }
    },
    {
      "cell_type": "code",
      "source": [
        "import numpy as np\n",
        "import pandas as pd\n",
        "import matplotlib.pyplot as plt\n",
        "%matplotlib inline\n",
        "import sklearn"
      ],
      "metadata": {
        "id": "88Sk9tC76goL"
      },
      "execution_count": 2,
      "outputs": []
    },
    {
      "cell_type": "markdown",
      "source": [
        "# **Dataset**\n",
        "I will use the famous Iris dataset available in Scikit-learn's inbuilt package"
      ],
      "metadata": {
        "id": "gs-dEOMa6vW4"
      }
    },
    {
      "cell_type": "code",
      "source": [
        "from sklearn.datasets import load_iris\n",
        "iris = load_iris()\n",
        "x = pd.DataFrame(iris['data'],columns=iris['feature_names'])\n",
        "print(x.shape)"
      ],
      "metadata": {
        "colab": {
          "base_uri": "https://localhost:8080/"
        },
        "id": "ghvCTpqB65Hv",
        "outputId": "49bd7488-ba0d-4766-9571-58bfc8d810c2"
      },
      "execution_count": 3,
      "outputs": [
        {
          "output_type": "stream",
          "name": "stdout",
          "text": [
            "(150, 4)\n"
          ]
        }
      ]
    },
    {
      "cell_type": "markdown",
      "source": [
        "# **Normalization of data**\n",
        "Normalization is necessary, when features are measured on different scales. Otherwise the variance and covariance matrix will vary and be dominated by the feature, with high scale values."
      ],
      "metadata": {
        "id": "mzaevudr6-yf"
      }
    },
    {
      "cell_type": "code",
      "source": [
        "from sklearn.preprocessing import StandardScaler\n",
        "x_std = StandardScaler().fit_transform(x)\n",
        "print(x_std.shape)"
      ],
      "metadata": {
        "colab": {
          "base_uri": "https://localhost:8080/"
        },
        "id": "-LmUzN2p7F0w",
        "outputId": "53ef2d7d-dd69-46f3-d9b9-ea539e54aac7"
      },
      "execution_count": 4,
      "outputs": [
        {
          "output_type": "stream",
          "name": "stdout",
          "text": [
            "(150, 4)\n"
          ]
        }
      ]
    },
    {
      "cell_type": "markdown",
      "source": [
        "# **Finding Covariance Matrix**"
      ],
      "metadata": {
        "id": "0fA0xBOT7MfP"
      }
    },
    {
      "cell_type": "code",
      "source": [
        "x_cov = np.cov(x_std.T)\n",
        "print(x_cov)"
      ],
      "metadata": {
        "colab": {
          "base_uri": "https://localhost:8080/"
        },
        "id": "Gvjhm4R-7QmV",
        "outputId": "c9555e64-8e87-482f-a68e-5c8e5fbb2b70"
      },
      "execution_count": 5,
      "outputs": [
        {
          "output_type": "stream",
          "name": "stdout",
          "text": [
            "[[ 1.00671141 -0.11835884  0.87760447  0.82343066]\n",
            " [-0.11835884  1.00671141 -0.43131554 -0.36858315]\n",
            " [ 0.87760447 -0.43131554  1.00671141  0.96932762]\n",
            " [ 0.82343066 -0.36858315  0.96932762  1.00671141]]\n"
          ]
        }
      ]
    },
    {
      "cell_type": "markdown",
      "source": [
        "# **Finding Eigenvalues & Eigenvectors**\n"
      ],
      "metadata": {
        "id": "dSsS_M037fgw"
      }
    },
    {
      "cell_type": "code",
      "source": [
        "Eigenvalues, Eigenvectors = np.linalg.eig(x_cov)\n",
        "print(\"Eigenvalues: \",end=\" \")\n",
        "print(Eigenvalues)\n",
        "print()\n",
        "print(\"Eigenvectors:\")\n",
        "print(Eigenvectors)\n"
      ],
      "metadata": {
        "colab": {
          "base_uri": "https://localhost:8080/"
        },
        "id": "zN34ukFK7ksa",
        "outputId": "f8089e27-eba0-4177-b768-2bf076ec7bf2"
      },
      "execution_count": 6,
      "outputs": [
        {
          "output_type": "stream",
          "name": "stdout",
          "text": [
            "Eigenvalues:  [2.93808505 0.9201649  0.14774182 0.02085386]\n",
            "\n",
            "Eigenvectors:\n",
            "[[ 0.52106591 -0.37741762 -0.71956635  0.26128628]\n",
            " [-0.26934744 -0.92329566  0.24438178 -0.12350962]\n",
            " [ 0.5804131  -0.02449161  0.14212637 -0.80144925]\n",
            " [ 0.56485654 -0.06694199  0.63427274  0.52359713]]\n"
          ]
        }
      ]
    },
    {
      "cell_type": "markdown",
      "source": [
        "# **Sorting Eigenvectors in descending order of their Eigenvalues**"
      ],
      "metadata": {
        "id": "YjtIAhKo7713"
      }
    },
    {
      "cell_type": "code",
      "source": [
        "# making a list of (Eigenvalue, Eigenvector) tuples\n",
        "Eigen_pairs = [(np.abs(Eigenvalues[i]), np.abs(Eigenvectors[i])) for i in range(len(Eigenvalues))]\n",
        "\n",
        "# sorting the Eigen_pair list in descending order \n",
        "Eigen_pairs.sort(key=lambda x : x[0], reverse=True)\n",
        "\n",
        "print(\"Eigenvalues in descending order:\")\n",
        "for i in range(len(Eigenvalues)):\n",
        "    print(Eigen_pairs[i][0])\n"
      ],
      "metadata": {
        "colab": {
          "base_uri": "https://localhost:8080/"
        },
        "id": "ptoMzejo8CsS",
        "outputId": "75ce297a-4792-4d03-a19e-325b51b04f71"
      },
      "execution_count": 7,
      "outputs": [
        {
          "output_type": "stream",
          "name": "stdout",
          "text": [
            "Eigenvalues in descending order:\n",
            "2.938085050199995\n",
            "0.9201649041624864\n",
            "0.1477418210449475\n",
            "0.020853862176462696\n"
          ]
        }
      ]
    },
    {
      "cell_type": "markdown",
      "source": [
        "# **Finding Explained Variance and Cumulative Explained Variance**"
      ],
      "metadata": {
        "id": "luR6kspL8MGy"
      }
    },
    {
      "cell_type": "code",
      "source": [
        "total_var = np.sum(Eigenvalues)\n",
        "var = [(ele/total_var)*100 for ele in sorted(Eigenvalues,reverse=True)]\n",
        "cum_var = np.cumsum(var)\n",
        "\n",
        "print(\"Variance associated with each component:\\n\")\n",
        "print(var)\n",
        "print()\n",
        "print(\"Cumulative Variance as we consider each component:\\n\")\n",
        "print(cum_var)"
      ],
      "metadata": {
        "colab": {
          "base_uri": "https://localhost:8080/"
        },
        "id": "UZHL4NtD8RVT",
        "outputId": "8d30ea25-fc99-4714-ae5b-e97935c5601b"
      },
      "execution_count": 8,
      "outputs": [
        {
          "output_type": "stream",
          "name": "stdout",
          "text": [
            "Variance associated with each component:\n",
            "\n",
            "[72.96244541329989, 22.850761786701753, 3.668921889282865, 0.5178709107154905]\n",
            "\n",
            "Cumulative Variance as we consider each component:\n",
            "\n",
            "[ 72.96244541  95.8132072   99.48212909 100.        ]\n"
          ]
        }
      ]
    },
    {
      "cell_type": "code",
      "source": [
        "with plt.style.context('seaborn-dark'):\n",
        "    plt.figure(figsize=(8, 6))\n",
        "\n",
        "    plt.bar(range(4), var, alpha=0.5, align='center',\n",
        "            label='Individual Explained Variance')\n",
        "    plt.step(range(4), cum_var, where='mid',\n",
        "             label='Cumulative Explained Variance')\n",
        "    plt.ylabel('Explained Variance Ratio')\n",
        "    plt.xlabel('Principal Components')\n",
        "    plt.legend(loc='best')\n",
        "    plt.tight_layout()"
      ],
      "metadata": {
        "colab": {
          "base_uri": "https://localhost:8080/",
          "height": 441
        },
        "id": "T1oSAlYv15pe",
        "outputId": "e162741e-f71e-4f72-d5a9-d627aa32fb8a"
      },
      "execution_count": 9,
      "outputs": [
        {
          "output_type": "display_data",
          "data": {
            "text/plain": [
              "<Figure size 576x432 with 1 Axes>"
            ],
            "image/png": "[encoded data removed]"
          },
          "metadata": {}
        }
      ]
    },
    {
      "cell_type": "markdown",
      "source": [
        "As we can see, in the above 95.8% of variance is associated with first two components, we can dropout the other two features with sacrificing too much accuracy.\n",
        "\n",
        "# **Creating Projection Matrix**\n",
        "we will create a matrix of concatenated top k Eigenvectors"
      ],
      "metadata": {
        "id": "g92nUFES2I8T"
      }
    },
    {
      "cell_type": "code",
      "source": [
        "projection_matrix = np.hstack((Eigen_pairs[0][1].reshape(4,1), Eigen_pairs[1][1].reshape(4,1)))\n",
        "print(projection_matrix)"
      ],
      "metadata": {
        "colab": {
          "base_uri": "https://localhost:8080/"
        },
        "id": "ZUt8BlFz2QVW",
        "outputId": "560fd364-e4cf-4efe-d395-8ee8a86032d8"
      },
      "execution_count": 10,
      "outputs": [
        {
          "output_type": "stream",
          "name": "stdout",
          "text": [
            "[[0.52106591 0.26934744]\n",
            " [0.37741762 0.92329566]\n",
            " [0.71956635 0.24438178]\n",
            " [0.26128628 0.12350962]]\n"
          ]
        }
      ]
    },
    {
      "cell_type": "code",
      "source": [
        "Y = x_std.dot(projection_matrix)\n",
        "print(Y.shape)"
      ],
      "metadata": {
        "colab": {
          "base_uri": "https://localhost:8080/"
        },
        "id": "6rD7lEmm2UDe",
        "outputId": "bb2f8d98-ba92-40bb-a374-782da21850f2"
      },
      "execution_count": 11,
      "outputs": [
        {
          "output_type": "stream",
          "name": "stdout",
          "text": [
            "(150, 2)\n"
          ]
        }
      ]
    },
    {
      "cell_type": "markdown",
      "source": [
        "# **Plotting the iris species with 2 components**"
      ],
      "metadata": {
        "id": "shzZ21_D2Ym6"
      }
    },
    {
      "cell_type": "code",
      "source": [
        "plt.figure(figsize=(8, 8))\n",
        "target_names = iris['target_names']\n",
        "y = iris['target']\n",
        "for c, i, target_name in zip('rgb', [0,1,2], target_names):\n",
        "    plt.scatter(Y[y==i,0], Y[y==i,1], c=c, label=target_name)\n",
        "plt.xlabel('Principal Component 1')\n",
        "plt.ylabel('Principal Component 2')\n",
        "plt.legend()\n",
        "plt.title(\"PCA of iris Dataset\")\n",
        "plt.show()"
      ],
      "metadata": {
        "colab": {
          "base_uri": "https://localhost:8080/",
          "height": 513
        },
        "id": "sD5tTWEq2cb7",
        "outputId": "14aab0df-4fce-4d4f-bdfe-5b46435e714a"
      },
      "execution_count": 12,
      "outputs": [
        {
          "output_type": "display_data",
          "data": {
            "text/plain": [
              "<Figure size 576x576 with 1 Axes>"
            ],
            "image/png": "[encoded data removed]"
          },
          "metadata": {
            "needs_background": "light"
          }
        }
      ]
    }
  ]
}